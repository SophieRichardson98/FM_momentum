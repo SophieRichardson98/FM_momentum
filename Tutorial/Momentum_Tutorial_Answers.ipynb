{
 "cells": [
  {
   "cell_type": "markdown",
   "id": "77a7fd99",
   "metadata": {},
   "source": [
    "---\n",
    "# Tutorial Task: Sentiment-Based Quant Strategy\n",
    "---"
   ]
  },
  {
   "cell_type": "markdown",
   "id": "44b20d11",
   "metadata": {},
   "source": [
    "In this tutorial, you will design and implement a **quantitative trading strategy** that makes trading decisions based on **news sentiment** for a selected group of 5 stocks."
   ]
  },
  {
   "cell_type": "markdown",
   "id": "e3e0a326",
   "metadata": {},
   "source": [
    "## Objective\n",
    "\n",
    "Each day, over a 1-week historical period:\n",
    "- **Buy** (go long) the stock with the **most positive** news sentiment\n",
    "- **Sell** (go short) the stock with the **most negative** news sentiment\n",
    "\n",
    "You will:\n",
    "1. Select your own **universe of 3 stocks** (e.g., AAPL, MSFT, GOOGL).\n",
    "2. Use the provided News API to retrieve articles for each stock.\n",
    "3. Calculate the **average sentiment** for each stock daily using tools like `TextBlob`.\n",
    "4. Track your portfolio’s value over time by simulating simple returns (real or mock).\n",
    "5. Plot your portfolio value and analyze strategy performance.\n",
    "\n",
    "## Constraints\n",
    "\n",
    "- The News API is limited to **100 requests per day**. Avoid excessive API calls while developing by storing data or limiting requests.\n",
    "- You only trade **one long and one short position** per day.\n",
    "- Keep it simple: assume equal capital allocation to long and short trades.\n",
    "\n",
    "## Deliverables\n",
    "\n",
    "- A working Jupyter notebook implementing the above strategy\n",
    "- Comments and clear structure for readability\n",
    "- A final plot showing portfolio value over the 1-week period\n"
   ]
  },
  {
   "cell_type": "markdown",
   "id": "3cd603bd",
   "metadata": {},
   "source": [
    "## Step 1:\n",
    "Import relevant libraries"
   ]
  },
  {
   "cell_type": "code",
   "execution_count": 46,
   "id": "d8f49e5a",
   "metadata": {},
   "outputs": [],
   "source": [
    "# Data analysis\n",
    "import pandas as pd\n",
    "import numpy as np\n",
    "# API calls\n",
    "import requests\n",
    "# Sentiment analysis\n",
    "from textblob import TextBlob\n",
    "# Time arithmetic\n",
    "from datetime import datetime, timedelta\n",
    "# Plotting\n",
    "import matplotlib.pyplot as plt\n",
    "# Financial data\n",
    "import yfinance as yf"
   ]
  },
  {
   "cell_type": "markdown",
   "id": "b87ffccc",
   "metadata": {},
   "source": [
    "## Step 2:\n",
    "Configure API"
   ]
  },
  {
   "cell_type": "code",
   "execution_count": null,
   "id": "534ee496",
   "metadata": {},
   "outputs": [],
   "source": [
    "# Information to call API (variables capitalised to deonte constants)\n",
    "API_KEY = 'YOUR_NEWS_API_KEY'  # Replace with your actual key\n",
    "BASE_URL = 'https://newsapi.org/v2/everything'\n",
    "STOCK_UNIVERSE = ['AAPL', 'MSFT', 'GOOGL', 'AMZN', 'TSLA']\n",
    "START_DATE = datetime(2025, 4, 1)\n",
    "END_DATE = datetime(2025, 4, 7)"
   ]
  },
  {
   "cell_type": "markdown",
   "id": "3835f924",
   "metadata": {},
   "source": [
    "## Step 3:\n",
    "Create a function to get news and calculate the sentiment"
   ]
  },
  {
   "cell_type": "code",
   "execution_count": null,
   "id": "a0bdb8ff",
   "metadata": {},
   "outputs": [
    {
     "name": "stdout",
     "output_type": "stream",
     "text": [
      "0.7500000000000001\n",
      "0.5\n",
      "-0.6999999999999998\n",
      "0.0\n"
     ]
    }
   ],
   "source": [
    "# We use TextBlob() to calculate sentiment:\n",
    "\n",
    "# Show students how this works by having it come up with sentiment from a string of controlled text\n",
    "print(TextBlob(\"This stock is amazing!\").sentiment.polarity)  # ➝ ~0.8 to 1.0 (positive)\n",
    "print(TextBlob(\"This stock is okay.\").sentiment.polarity)     # ➝ ~0.2 (slightly positive)\n",
    "print(TextBlob(\"This stock is bad.\").sentiment.polarity)      # ➝ ~-0.7 (negative)\n",
    "print(TextBlob(\"This is a stock.\").sentiment.polarity)    "
   ]
  },
  {
   "cell_type": "code",
   "execution_count": null,
   "id": "e6e75146",
   "metadata": {},
   "outputs": [],
   "source": [
    "def get_sentiment(stock, date):\n",
    "    from_date = date.strftime('%Y-%m-%d')\n",
    "    to_date = (date + timedelta(days=1)).strftime('%Y-%m-%d')\n",
    "\n",
    "    params = {\n",
    "        'q': stock,\n",
    "        'from': from_date,\n",
    "        'to': to_date,\n",
    "        'sortBy': 'relevancy',\n",
    "        'apiKey': API_KEY,\n",
    "        'language': 'en',\n",
    "        'pageSize': 10\n",
    "    }\n",
    "\n",
    "    # Call API with the relevant stock and dates\n",
    "    response = requests.get(BASE_URL, params=params)\n",
    "    data = response.json() # response in a .json format\n",
    "    \n",
    "    print(data)\n",
    "\n",
    "    sentiments = []\n",
    "    for article in data.get('articles', []):\n",
    "        title = article.get('title', '')\n",
    "        description = article.get('description', '')\n",
    "        \n",
    "        if not title and not description:\n",
    "            continue  # skip if both are missing\n",
    "        \n",
    "        text = f\"{title} {description}\"\n",
    "        \n",
    "        # Get sentiment of text\n",
    "        sentiment = TextBlob(text).sentiment.polarity\n",
    "        sentiments.append(sentiment)\n",
    "\n",
    "    if sentiments:\n",
    "        return np.mean(sentiments) # return the mean sentiment of the stock over the week\n",
    "    return 0.0"
   ]
  },
  {
   "cell_type": "code",
   "execution_count": 43,
   "id": "bf29ceb7",
   "metadata": {},
   "outputs": [
    {
     "name": "stdout",
     "output_type": "stream",
     "text": [
      "{'status': 'ok', 'totalResults': 41, 'articles': [{'source': {'id': None, 'name': '9to5Mac'}, 'author': 'Benjamin Mayo', 'title': 'Trump tariffs attack key parts of the Apple supply chain, Apple stock drops 7% in after-hours trading', 'description': 'The full extent of the U.S. government’s impeding tariffs were revealed by the Trump administration today in a press conference. The hefty tariffs threaten economic trade on a massive scale with implications on almost all big US companies, including Apple.\\n\\n\\n…', 'url': 'https://9to5mac.com/2025/04/02/trump-tariffs-apple-stock-down/', 'urlToImage': 'https://i0.wp.com/9to5mac.com/wp-content/uploads/sites/6/2025/04/apple-stock-down-trump-tariffs.jpg?resize=1200%2C628&quality=82&strip=all&ssl=1', 'publishedAt': '2025-04-02T22:43:22Z', 'content': 'The full extent of the U.S. government’s impeding tariffs were revealed by the Trump administration today in a press conference. The hefty tariffs threaten economic trade on a massive scale with impl… [+3083 chars]'}, {'source': {'id': None, 'name': 'Yahoo Entertainment'}, 'author': 'Yahoo Finance', 'title': '*20% ON EU...', 'description': \"*20% ON EU...\\r\\n\\n \\n \\n \\n (Top headline, 3rd story, link)\\r\\n\\n \\r\\n\\n \\r\\n\\n \\n Related stories:Trump unleashes tariffs...\\r\\n10% global; Higher rate for 'worst offenders'...\\r\\n*34% ON CHINA...\\r\\n*46% ON VIETNAM...\\r\\n*24% ON JAPAN...\\r\\n*26% ON INDIA... *MORE...\\r\\nHighest import…\", 'url': 'https://finance.yahoo.com/news/live/trump-tariffs-live-updates-trump-reveals-liberation-day-tariffs-across-over-150-countries-191201863.html', 'urlToImage': 'https://s.yimg.com/ny/api/res/1.2/elyN_13pGPz5GdHPccAGTA--/YXBwaWQ9aGlnaGxhbmRlcjt3PTEyMDA7aD04MDA-/https://s.yimg.com/os/creatr-uploaded-images/2025-04/4b475370-1002-11f0-b97e-0b18d35cb5b0', 'publishedAt': '2025-04-02T22:07:36Z', 'content': 'Shortly after announcing sweeping reciprocal tariffs, President Trump touted the domestic investments from Big Tech as companies like Apple (AAPL), Nvidia (NVDA), and others pledge billions to expand… [+1485 chars]'}, {'source': {'id': None, 'name': 'Yahoo Entertainment'}, 'author': None, 'title': 'Tesla Short Position Now 4th Largest, Trails NVDA, MSFT, AAPL', 'description': None, 'url': 'https://consent.yahoo.com/v2/collectConsent?sessionId=1_cc-session_22de99ff-0f1e-48e3-b532-d13ace03b8f8', 'urlToImage': None, 'publishedAt': '2025-04-01T13:07:10Z', 'content': \"If you click 'Accept all', we and our partners, including 238 who are part of the IAB Transparency &amp; Consent Framework, will also store and/or access information on a device (in other words, use … [+702 chars]\"}, {'source': {'id': None, 'name': 'Quartz India'}, 'author': 'Josh Fellman', 'title': 'Tesla, Newsmax, Big Tech: Stocks to watch today', 'description': 'Stocks fell premarket on “Liberation Day,” when President Donald Trump is set to unveil new tariffs on virtually all countries with which the U.S. has a trading relationship. Futures linked to the S&P 500, Nasdaq 100 and the Dow Jones Industrial Average all p…', 'url': 'https://qz.com/stock-watch-tesla-newsmax-nvidia-palantir-meta-amazon-1851774140', 'urlToImage': 'https://i.kinja-img.com/image/upload/c_fill,h_675,pg_1,q_80,w_1200/945dcd478d33e3a00615ef2a4ec7a2a3.jpg', 'publishedAt': '2025-04-02T11:56:00Z', 'content': 'In This Story\\r\\nStocks fell premarket on Liberation Day, when President Donald Trump is set to unveil new tariffs on virtually all countries with which the U.S. has a trading relationship. Futures lin… [+1998 chars]'}, {'source': {'id': None, 'name': 'Yahoo Entertainment'}, 'author': None, 'title': 'Jim Cramer’s Strategic Insight on Apple (AAPL): CEO Tim Cook Pleases Everyone – But Is That a Problem?', 'description': None, 'url': 'https://consent.yahoo.com/v2/collectConsent?sessionId=1_cc-session_854be5a9-6d00-4214-b65e-8162bde52353', 'urlToImage': None, 'publishedAt': '2025-04-01T14:14:21Z', 'content': \"If you click 'Accept all', we and our partners, including 238 who are part of the IAB Transparency &amp; Consent Framework, will also store and/or access information on a device (in other words, use … [+702 chars]\"}, {'source': {'id': None, 'name': 'Quartz India'}, 'author': 'Josh Fellman', 'title': \"Mag 7, other stocks fall post-market after Trump's tariff announcement\", 'description': 'Investors greeted President Donald Trump’s reciprocal tariffs less than enthusiastically, sending the Magnificent 7 and other stocks lower. Futures linked to the the S&P 500, the Nasdaq 100, and the Dow Jones Industrial Average point to a lower opening Thursd…', 'url': 'https://qz.com/trump-tariffs-market-reaction-1851774378', 'urlToImage': 'https://i.kinja-img.com/image/upload/c_fill,h_675,pg_1,q_80,w_1200/93c19798e064077bef2a8dfa69384255.jpg', 'publishedAt': '2025-04-02T22:05:00Z', 'content': 'In This Story\\r\\nInvestors greeted President Donald Trumps reciprocal tariffs less than enthusiastically, sending the Magnificent 7 and other stocks lower. Futures linked to the the S&amp;P 500, the Na… [+2614 chars]'}, {'source': {'id': None, 'name': 'Yahoo Entertainment'}, 'author': 'Faizan Farooque', 'title': \"Apple's iOS 18.4 Expands AI Features Amid Siri Delay, Citi Sees Stock Opportunity\", 'description': 'iOS 18.4 adds Apple Intelligence support for more languages and brings features to EU users.', 'url': 'https://finance.yahoo.com/news/apples-ios-18-4-expands-155525115.html', 'urlToImage': 'https://media.zenfs.com/en/us.finance.gurufocus/b3bdeaa8bbcaaef7d764d6a0b08ff6b8', 'publishedAt': '2025-04-01T15:55:25Z', 'content': 'Apple (AAPL, Financials) released its iOS 18.4 update on Monday, introducing expanded Apple Intelligence capabilities and support for additional languages, including Chinese, French, German, Italian,… [+1394 chars]'}, {'source': {'id': None, 'name': 'Applech2.com'}, 'author': 'applech2', 'title': 'Apple、開発者向けに「macOS 15.5 Sequoia」や「iOS 18.5」、「visionOS 2.5」などのBeta 1を公開。', 'description': 'Appleが開発者向けに「macOS 15.5 Sequoia」や「iOS 18.5」、「visionOS 2.5」などのBeta 1を公開しています。詳細は以下から。 \\u3000Appleは現地時間2025年03月31日、日 […]\\nThe post Apple、開発者向けに「macOS 15.5 Sequoia」や「iOS 18.5」、「visionOS 2.5」などのBeta 1を公開。 first appeared on AAPL Ch..', 'url': 'https://applech2.com/archives/20250403-macos-15-5-sequoia-and-ios-18-5-beta-1.html', 'urlToImage': 'https://applech2.com/wp-content/uploads/2025/04/macOS-15-4-sequoia-and-ios-18-4-beta-1-Hero.webp', 'publishedAt': '2025-04-02T22:53:08Z', 'content': 'ApplemacOS 15.5 SequoiaiOS 18.5visionOS 2.5Beta 1\\r\\nApple20250331Apple IntelligencemacOS 15.4 Sequoia (24E248)iOS/iPadOS 18.4 (22E240)0402iOS/iPadOS 18.5macOS 15.5tvOS 18.5visionOS 2.5watchOS 11.5Beta… [+417 chars]'}, {'source': {'id': None, 'name': 'Yahoo Entertainment'}, 'author': 'Reuters', 'title': \"Visa bids $100 million to replace Mastercard as Apple's new credit card partner, WSJ reports\", 'description': 'Visa has made a bold push to secure the Apple Card, offering an upfront payment typically reserved for the largest card programs, WSJ reported.  American...', 'url': 'https://finance.yahoo.com/news/visa-bids-100-million-replace-222311081.html', 'urlToImage': 'https://media.zenfs.com/en/reuters-finance.com/548b3c2cec10deacaf13acb7228906f2', 'publishedAt': '2025-04-01T22:23:11Z', 'content': \"(Reuters) -Visa has offered Apple (AAPL) roughly $100 million to take over the tech giant's credit card partnership from Mastercard, the Wall Street Journal reported on Tuesday, citing sources famili… [+1321 chars]\"}, {'source': {'id': None, 'name': 'Macdailynews.com'}, 'author': 'MacDailyNews', 'title': 'Why Apple stock remains a buy even after Apple Intelligence and Siri delays', 'description': 'Citi Research analysts suggest that Apple’s stock could soar to $300 as investors recalibrate their expectations for the launch of an…\\nThe post Why Apple stock remains a buy even after Apple Intelligence and Siri delays appeared first on MacDailyNews.', 'url': 'https://macdailynews.com/2025/04/01/why-apple-stock-remains-a-buy-even-after-apple-intelligence-and-siri-delays/', 'urlToImage': 'https://149359564.v2.pressablecdn.com/wp-content/uploads/2024/12/241217_apple_logo.png', 'publishedAt': '2025-04-01T15:02:05Z', 'content': 'Citi Research analysts suggest that Apples stock could soar to $300 as investors recalibrate their expectations for the launch of an AI-enhanced Siri upgrade. The team, headed by Atif Malik, maintain… [+1471 chars]'}]}\n"
     ]
    },
    {
     "data": {
      "text/plain": [
       "np.float64(0.13684415584415582)"
      ]
     },
     "execution_count": 43,
     "metadata": {},
     "output_type": "execute_result"
    }
   ],
   "source": [
    "get_sentiment('AAPL', START_DATE)"
   ]
  },
  {
   "cell_type": "markdown",
   "id": "ff7b26c7",
   "metadata": {},
   "source": [
    "## Step 4:\n",
    "Simulate Trading"
   ]
  },
  {
   "cell_type": "code",
   "execution_count": 51,
   "id": "48e25cc8",
   "metadata": {},
   "outputs": [
    {
     "name": "stdout",
     "output_type": "stream",
     "text": [
      "Processing 2025-04-01...\n",
      "{'status': 'error', 'code': 'rateLimited', 'message': 'You have made too many requests recently. Developer accounts are limited to 100 requests over a 24 hour period (50 requests available every 12 hours). Please upgrade to a paid plan if you need more requests.'}\n",
      "{'status': 'error', 'code': 'rateLimited', 'message': 'You have made too many requests recently. Developer accounts are limited to 100 requests over a 24 hour period (50 requests available every 12 hours). Please upgrade to a paid plan if you need more requests.'}\n",
      "{'status': 'error', 'code': 'rateLimited', 'message': 'You have made too many requests recently. Developer accounts are limited to 100 requests over a 24 hour period (50 requests available every 12 hours). Please upgrade to a paid plan if you need more requests.'}\n",
      "{'status': 'error', 'code': 'rateLimited', 'message': 'You have made too many requests recently. Developer accounts are limited to 100 requests over a 24 hour period (50 requests available every 12 hours). Please upgrade to a paid plan if you need more requests.'}\n",
      "{'status': 'error', 'code': 'rateLimited', 'message': 'You have made too many requests recently. Developer accounts are limited to 100 requests over a 24 hour period (50 requests available every 12 hours). Please upgrade to a paid plan if you need more requests.'}\n"
     ]
    },
    {
     "name": "stderr",
     "output_type": "stream",
     "text": [
      "[*********************100%***********************]  1 of 1 completed\n",
      "[*********************100%***********************]  1 of 1 completed\n"
     ]
    },
    {
     "name": "stdout",
     "output_type": "stream",
     "text": [
      "Processing 2025-04-02...\n",
      "{'status': 'error', 'code': 'rateLimited', 'message': 'You have made too many requests recently. Developer accounts are limited to 100 requests over a 24 hour period (50 requests available every 12 hours). Please upgrade to a paid plan if you need more requests.'}\n",
      "{'status': 'error', 'code': 'rateLimited', 'message': 'You have made too many requests recently. Developer accounts are limited to 100 requests over a 24 hour period (50 requests available every 12 hours). Please upgrade to a paid plan if you need more requests.'}\n",
      "{'status': 'error', 'code': 'rateLimited', 'message': 'You have made too many requests recently. Developer accounts are limited to 100 requests over a 24 hour period (50 requests available every 12 hours). Please upgrade to a paid plan if you need more requests.'}\n",
      "{'status': 'error', 'code': 'rateLimited', 'message': 'You have made too many requests recently. Developer accounts are limited to 100 requests over a 24 hour period (50 requests available every 12 hours). Please upgrade to a paid plan if you need more requests.'}\n"
     ]
    },
    {
     "name": "stderr",
     "output_type": "stream",
     "text": [
      "[*********************100%***********************]  1 of 1 completed\n",
      "[*********************100%***********************]  1 of 1 completed"
     ]
    },
    {
     "name": "stdout",
     "output_type": "stream",
     "text": [
      "{'status': 'error', 'code': 'rateLimited', 'message': 'You have made too many requests recently. Developer accounts are limited to 100 requests over a 24 hour period (50 requests available every 12 hours). Please upgrade to a paid plan if you need more requests.'}\n",
      "Processing 2025-04-03...\n"
     ]
    },
    {
     "name": "stderr",
     "output_type": "stream",
     "text": [
      "\n"
     ]
    },
    {
     "name": "stdout",
     "output_type": "stream",
     "text": [
      "{'status': 'error', 'code': 'rateLimited', 'message': 'You have made too many requests recently. Developer accounts are limited to 100 requests over a 24 hour period (50 requests available every 12 hours). Please upgrade to a paid plan if you need more requests.'}\n",
      "{'status': 'error', 'code': 'rateLimited', 'message': 'You have made too many requests recently. Developer accounts are limited to 100 requests over a 24 hour period (50 requests available every 12 hours). Please upgrade to a paid plan if you need more requests.'}\n",
      "{'status': 'error', 'code': 'rateLimited', 'message': 'You have made too many requests recently. Developer accounts are limited to 100 requests over a 24 hour period (50 requests available every 12 hours). Please upgrade to a paid plan if you need more requests.'}\n",
      "{'status': 'error', 'code': 'rateLimited', 'message': 'You have made too many requests recently. Developer accounts are limited to 100 requests over a 24 hour period (50 requests available every 12 hours). Please upgrade to a paid plan if you need more requests.'}\n"
     ]
    },
    {
     "name": "stderr",
     "output_type": "stream",
     "text": [
      "[*********************100%***********************]  1 of 1 completed\n",
      "[*********************100%***********************]  1 of 1 completed"
     ]
    },
    {
     "name": "stdout",
     "output_type": "stream",
     "text": [
      "{'status': 'error', 'code': 'rateLimited', 'message': 'You have made too many requests recently. Developer accounts are limited to 100 requests over a 24 hour period (50 requests available every 12 hours). Please upgrade to a paid plan if you need more requests.'}\n",
      "Processing 2025-04-04...\n"
     ]
    },
    {
     "name": "stderr",
     "output_type": "stream",
     "text": [
      "\n"
     ]
    },
    {
     "name": "stdout",
     "output_type": "stream",
     "text": [
      "{'status': 'error', 'code': 'rateLimited', 'message': 'You have made too many requests recently. Developer accounts are limited to 100 requests over a 24 hour period (50 requests available every 12 hours). Please upgrade to a paid plan if you need more requests.'}\n",
      "{'status': 'error', 'code': 'rateLimited', 'message': 'You have made too many requests recently. Developer accounts are limited to 100 requests over a 24 hour period (50 requests available every 12 hours). Please upgrade to a paid plan if you need more requests.'}\n",
      "{'status': 'error', 'code': 'rateLimited', 'message': 'You have made too many requests recently. Developer accounts are limited to 100 requests over a 24 hour period (50 requests available every 12 hours). Please upgrade to a paid plan if you need more requests.'}\n",
      "{'status': 'error', 'code': 'rateLimited', 'message': 'You have made too many requests recently. Developer accounts are limited to 100 requests over a 24 hour period (50 requests available every 12 hours). Please upgrade to a paid plan if you need more requests.'}\n"
     ]
    },
    {
     "name": "stderr",
     "output_type": "stream",
     "text": [
      "[*********************100%***********************]  1 of 1 completed\n",
      "[*********************100%***********************]  1 of 1 completed"
     ]
    },
    {
     "name": "stdout",
     "output_type": "stream",
     "text": [
      "{'status': 'error', 'code': 'rateLimited', 'message': 'You have made too many requests recently. Developer accounts are limited to 100 requests over a 24 hour period (50 requests available every 12 hours). Please upgrade to a paid plan if you need more requests.'}\n",
      "Processing 2025-04-05...\n"
     ]
    },
    {
     "name": "stderr",
     "output_type": "stream",
     "text": [
      "\n"
     ]
    },
    {
     "name": "stdout",
     "output_type": "stream",
     "text": [
      "{'status': 'error', 'code': 'rateLimited', 'message': 'You have made too many requests recently. Developer accounts are limited to 100 requests over a 24 hour period (50 requests available every 12 hours). Please upgrade to a paid plan if you need more requests.'}\n",
      "{'status': 'error', 'code': 'rateLimited', 'message': 'You have made too many requests recently. Developer accounts are limited to 100 requests over a 24 hour period (50 requests available every 12 hours). Please upgrade to a paid plan if you need more requests.'}\n",
      "{'status': 'error', 'code': 'rateLimited', 'message': 'You have made too many requests recently. Developer accounts are limited to 100 requests over a 24 hour period (50 requests available every 12 hours). Please upgrade to a paid plan if you need more requests.'}\n",
      "{'status': 'error', 'code': 'rateLimited', 'message': 'You have made too many requests recently. Developer accounts are limited to 100 requests over a 24 hour period (50 requests available every 12 hours). Please upgrade to a paid plan if you need more requests.'}\n"
     ]
    },
    {
     "name": "stderr",
     "output_type": "stream",
     "text": [
      "[*********************100%***********************]  1 of 1 completed\n",
      "\n",
      "1 Failed download:\n",
      "['AAPL']: YFPricesMissingError('possibly delisted; no price data found  (1d 2025-04-05 -> 2025-04-06)')\n",
      "[*********************100%***********************]  1 of 1 completed\n",
      "\n",
      "1 Failed download:\n",
      "['AAPL']: YFPricesMissingError('possibly delisted; no price data found  (1d 2025-04-05 -> 2025-04-06)')\n"
     ]
    },
    {
     "name": "stdout",
     "output_type": "stream",
     "text": [
      "{'status': 'error', 'code': 'rateLimited', 'message': 'You have made too many requests recently. Developer accounts are limited to 100 requests over a 24 hour period (50 requests available every 12 hours). Please upgrade to a paid plan if you need more requests.'}\n",
      "Processing 2025-04-06...\n",
      "{'status': 'error', 'code': 'rateLimited', 'message': 'You have made too many requests recently. Developer accounts are limited to 100 requests over a 24 hour period (50 requests available every 12 hours). Please upgrade to a paid plan if you need more requests.'}\n",
      "{'status': 'error', 'code': 'rateLimited', 'message': 'You have made too many requests recently. Developer accounts are limited to 100 requests over a 24 hour period (50 requests available every 12 hours). Please upgrade to a paid plan if you need more requests.'}\n",
      "{'status': 'error', 'code': 'rateLimited', 'message': 'You have made too many requests recently. Developer accounts are limited to 100 requests over a 24 hour period (50 requests available every 12 hours). Please upgrade to a paid plan if you need more requests.'}\n",
      "{'status': 'error', 'code': 'rateLimited', 'message': 'You have made too many requests recently. Developer accounts are limited to 100 requests over a 24 hour period (50 requests available every 12 hours). Please upgrade to a paid plan if you need more requests.'}\n"
     ]
    },
    {
     "name": "stderr",
     "output_type": "stream",
     "text": [
      "[*********************100%***********************]  1 of 1 completed\n",
      "\n",
      "1 Failed download:\n",
      "['AAPL']: YFPricesMissingError('possibly delisted; no price data found  (1d 2025-04-06 -> 2025-04-07)')\n",
      "[*********************100%***********************]  1 of 1 completed\n",
      "\n",
      "1 Failed download:\n",
      "['AAPL']: YFPricesMissingError('possibly delisted; no price data found  (1d 2025-04-06 -> 2025-04-07)')\n"
     ]
    },
    {
     "name": "stdout",
     "output_type": "stream",
     "text": [
      "{'status': 'error', 'code': 'rateLimited', 'message': 'You have made too many requests recently. Developer accounts are limited to 100 requests over a 24 hour period (50 requests available every 12 hours). Please upgrade to a paid plan if you need more requests.'}\n",
      "Processing 2025-04-07...\n",
      "{'status': 'error', 'code': 'rateLimited', 'message': 'You have made too many requests recently. Developer accounts are limited to 100 requests over a 24 hour period (50 requests available every 12 hours). Please upgrade to a paid plan if you need more requests.'}\n",
      "{'status': 'error', 'code': 'rateLimited', 'message': 'You have made too many requests recently. Developer accounts are limited to 100 requests over a 24 hour period (50 requests available every 12 hours). Please upgrade to a paid plan if you need more requests.'}\n",
      "{'status': 'error', 'code': 'rateLimited', 'message': 'You have made too many requests recently. Developer accounts are limited to 100 requests over a 24 hour period (50 requests available every 12 hours). Please upgrade to a paid plan if you need more requests.'}\n",
      "{'status': 'error', 'code': 'rateLimited', 'message': 'You have made too many requests recently. Developer accounts are limited to 100 requests over a 24 hour period (50 requests available every 12 hours). Please upgrade to a paid plan if you need more requests.'}\n"
     ]
    },
    {
     "name": "stderr",
     "output_type": "stream",
     "text": [
      "[*********************100%***********************]  1 of 1 completed\n",
      "[*********************100%***********************]  1 of 1 completed"
     ]
    },
    {
     "name": "stdout",
     "output_type": "stream",
     "text": [
      "{'status': 'error', 'code': 'rateLimited', 'message': 'You have made too many requests recently. Developer accounts are limited to 100 requests over a 24 hour period (50 requests available every 12 hours). Please upgrade to a paid plan if you need more requests.'}\n"
     ]
    },
    {
     "name": "stderr",
     "output_type": "stream",
     "text": [
      "\n"
     ]
    }
   ],
   "source": [
    "dates = pd.date_range(START_DATE, END_DATE)\n",
    "strategy_returns = []\n",
    "portfolio_value = 100000  # starting capital\n",
    "\n",
    "for date in dates:\n",
    "    print(f\"Processing {date.strftime('%Y-%m-%d')}...\")\n",
    "    daily_sentiments = {}\n",
    "\n",
    "    for stock in STOCK_UNIVERSE:\n",
    "        try:\n",
    "            sentiment = get_sentiment(stock, date)\n",
    "            daily_sentiments[stock] = sentiment\n",
    "        except Exception as e:\n",
    "            print(f\"Error retrieving news for {stock} on {date}: {e}\")\n",
    "            daily_sentiments[stock] = 0.0\n",
    "\n",
    "    # pick long and short\n",
    "    long_stock = max(daily_sentiments, key=daily_sentiments.get)\n",
    "    short_stock = min(daily_sentiments, key=daily_sentiments.get)\n",
    "\n",
    "    # Get market data from yfinance for both long and short\n",
    "    next_day = date + pd.Timedelta(days=1)\n",
    "\n",
    "    try:\n",
    "        long_data = yf.download(long_stock, start=date.strftime('%Y-%m-%d'), end=next_day.strftime('%Y-%m-%d'), interval='1d')\n",
    "        short_data = yf.download(short_stock, start=date.strftime('%Y-%m-%d'), end=next_day.strftime('%Y-%m-%d'), interval='1d')\n",
    "\n",
    "    except:\n",
    "        print(f\"Issue with {long_stock} or {short_stock}\")\n",
    "        \n",
    "    # Compute float returns from yfinance data\n",
    "    if not long_data.empty and not short_data.empty:\n",
    "        long_ret = (long_data['Close'].iloc[0] - long_data['Open'].iloc[0]) / long_data['Open'].iloc[0]\n",
    "        short_ret = (short_data['Open'].iloc[0] - short_data['Close'].iloc[0]) / short_data['Open'].iloc[0]\n",
    "        daily_ret = (long_ret + short_ret) / 2\n",
    "        portfolio_value *= (1 + daily_ret)\n",
    "    else:\n",
    "        long_ret = 0.0\n",
    "        short_ret = 0.0\n",
    "        daily_ret = 0.0\n",
    "\n",
    "    strategy_returns.append({\n",
    "        'date': date,\n",
    "        'long': long_stock,\n",
    "        'short': short_stock,\n",
    "        'long_return': long_ret,\n",
    "        'short_return': short_ret,\n",
    "        'daily_return': daily_ret,\n",
    "        'portfolio_value': portfolio_value\n",
    "    })\n",
    "\n",
    "\n",
    "\n"
   ]
  },
  {
   "cell_type": "code",
   "execution_count": 1,
   "id": "4d652c9e",
   "metadata": {},
   "outputs": [],
   "source": [
    "# New code\n",
    "\n",
    "import pandas as pd\n",
    "import numpy as np\n",
    "import requests\n",
    "from textblob import TextBlob\n",
    "from datetime import datetime, timedelta\n",
    "import yfinance as yf\n",
    "\n",
    "# Constants for the News API\n",
    "API_KEY = 'YOUR_NEWS_API_KEY'\n",
    "BASE_URL = 'https://newsapi.org/v2/everything'\n",
    "\n",
    "def get_sentiment(stock, date):\n",
    "    \"\"\"Fetches news articles and computes average sentiment for a given stock and date.\"\"\"\n",
    "    from_date = date.strftime('%Y-%m-%d')\n",
    "    to_date = (date + timedelta(days=1)).strftime('%Y-%m-%d')\n",
    "\n",
    "    params = {\n",
    "        'q': stock,\n",
    "        'from': from_date,\n",
    "        'to': to_date,\n",
    "        'sortBy': 'relevancy',\n",
    "        'apiKey': API_KEY,\n",
    "        'language': 'en',\n",
    "        'pageSize': 10\n",
    "    }\n",
    "\n",
    "    try:\n",
    "        response = requests.get(BASE_URL, params=params)\n",
    "        data = response.json()\n",
    "        sentiments = []\n",
    "\n",
    "        for article in data.get('articles', []):\n",
    "            text = f\"{article.get('title', '')} {article.get('description', '')}\".strip()\n",
    "            if text:\n",
    "                sentiment = TextBlob(text).sentiment.polarity\n",
    "                sentiments.append(sentiment)\n",
    "\n",
    "        return np.mean(sentiments) if sentiments else 0.0\n",
    "\n",
    "    except Exception as e:\n",
    "        print(f\"Error fetching sentiment for {stock} on {from_date}: {e}\")\n",
    "        return 0.0\n",
    "\n",
    "\n",
    "def run_sentiment_strategy(stock_universe, start_date, end_date, initial_portfolio_value):\n",
    "    \"\"\"\n",
    "    Simulates a sentiment-based trading strategy.\n",
    "\n",
    "    Args:\n",
    "        stock_universe (list): List of stock tickers.\n",
    "        start_date (datetime): Start date for the strategy.\n",
    "        end_date (datetime): End date for the strategy.\n",
    "        initial_portfolio_value (float): Initial portfolio value.\n",
    "\n",
    "    Returns:\n",
    "        pd.DataFrame: Simulation results by day.\n",
    "    \"\"\"\n",
    "    dates = pd.date_range(start_date, end_date)\n",
    "    portfolio_value = initial_portfolio_value\n",
    "    results = []\n",
    "\n",
    "    for date in dates:\n",
    "        print(f\"Processing {date.strftime('%Y-%m-%d')}...\")\n",
    "        daily_sentiments = {}\n",
    "\n",
    "        # Collect Sentiment Scores\n",
    "        for stock in stock_universe:\n",
    "            sentiment = get_sentiment(stock, date)\n",
    "            daily_sentiments[stock] = sentiment\n",
    "\n",
    "        # Select Long and Short Stocks\n",
    "        long_stock = max(daily_sentiments, key=daily_sentiments.get)\n",
    "        short_stock = min(daily_sentiments, key=daily_sentiments.get)\n",
    "        next_day = date + timedelta(days=1)\n",
    "\n",
    "        # Fetch Stock Prices\n",
    "        long_data = yf.download(long_stock, start=date.strftime('%Y-%m-%d'), \n",
    "                                end=next_day.strftime('%Y-%m-%d'), interval='1d', progress=False)\n",
    "        short_data = yf.download(short_stock, start=date.strftime('%Y-%m-%d'), \n",
    "                                 end=next_day.strftime('%Y-%m-%d'), interval='1d', progress=False)\n",
    "\n",
    "        if not long_data.empty and not short_data.empty:\n",
    "            long_open = long_data['Open'].iloc[0]\n",
    "            long_close = long_data['Close'].iloc[0]\n",
    "            short_open = short_data['Open'].iloc[0]\n",
    "            short_close = short_data['Close'].iloc[0]\n",
    "\n",
    "            long_ret = (long_close - long_open) / long_open\n",
    "            short_ret = (short_open - short_close) / short_open\n",
    "            daily_ret = (long_ret + short_ret) / 2\n",
    "            portfolio_value *= (1 + daily_ret)\n",
    "        else:\n",
    "            long_open = long_close = short_open = short_close = np.nan\n",
    "            long_ret = short_ret = daily_ret = 0.0\n",
    "\n",
    "        results.append({\n",
    "            'date': date.strftime('%Y-%m-%d'),\n",
    "            'stock_long': long_stock,\n",
    "            'long_price_open': long_open,\n",
    "            'long_price_close': long_close,\n",
    "            'stock_short': short_stock,\n",
    "            'short_price_open': short_open,\n",
    "            'short_price_close': short_close,\n",
    "            'long_return': long_ret,\n",
    "            'short_return': short_ret,\n",
    "            'daily_return': daily_ret,\n",
    "            'portfolio_value': portfolio_value\n",
    "        })\n",
    "\n",
    "    return pd.DataFrame(results)\n"
   ]
  },
  {
   "cell_type": "code",
   "execution_count": null,
   "id": "b7e1aeb6",
   "metadata": {},
   "outputs": [],
   "source": [
    "# Usage\n",
    "# from sentiment_trading_simulator import run_sentiment_strategy # put the above code into a seperate file.\n",
    "from datetime import datetime\n",
    "\n",
    "STOCK_UNIVERSE = ['AAPL', 'MSFT', 'GOOGL', 'AMZN', 'TSLA']\n",
    "START_DATE = datetime(2025, 4, 1)\n",
    "END_DATE = datetime(2025, 4, 7)\n",
    "PORTFOLIO_VALUE = 100000\n",
    "\n",
    "results_df = run_sentiment_strategy(STOCK_UNIVERSE, START_DATE, END_DATE, PORTFOLIO_VALUE)\n",
    "print(results_df)\n"
   ]
  },
  {
   "cell_type": "markdown",
   "id": "3c88c049",
   "metadata": {},
   "source": [
    "## Step 5:\n",
    "Display results in ```matplotlib```"
   ]
  },
  {
   "cell_type": "code",
   "execution_count": 49,
   "id": "e50932e0",
   "metadata": {},
   "outputs": [
    {
     "data": {
      "image/png": "[encoded data removed]",
      "text/plain": [
       "<Figure size 1000x500 with 1 Axes>"
      ]
     },
     "metadata": {},
     "output_type": "display_data"
    }
   ],
   "source": [
    "# Create DataFrame from strategy returns\n",
    "df = pd.DataFrame(strategy_returns)\n",
    "\n",
    "# Ensure correct data types\n",
    "df['date'] = pd.to_datetime(df['date'])\n",
    "df = df.sort_values('date')\n",
    "df['portfolio_value'] = pd.to_numeric(df['portfolio_value'], errors='coerce')\n",
    "\n",
    "# Plot the portfolio value\n",
    "plt.figure(figsize=(10, 5))\n",
    "plt.plot(df['date'], df['portfolio_value'], marker='o', linewidth=2)\n",
    "plt.title('Sentiment-Based Strategy: Portfolio Value Over 1 Week')\n",
    "plt.xlabel('Date')\n",
    "plt.ylabel('Portfolio Value (USD)')\n",
    "plt.grid(True)\n",
    "plt.xticks(rotation=45)\n",
    "plt.tight_layout()\n",
    "plt.show()"
   ]
  },
  {
   "cell_type": "markdown",
   "id": "a53eeee8",
   "metadata": {},
   "source": []
  }
 ],
 "metadata": {
  "kernelspec": {
   "display_name": "Python 3",
   "language": "python",
   "name": "python3"
  },
  "language_info": {
   "codemirror_mode": {
    "name": "ipython",
    "version": 3
   },
   "file_extension": ".py",
   "mimetype": "text/x-python",
   "name": "python",
   "nbconvert_exporter": "python",
   "pygments_lexer": "ipython3",
   "version": "3.12.1"
  }
 },
 "nbformat": 4,
 "nbformat_minor": 5
}
