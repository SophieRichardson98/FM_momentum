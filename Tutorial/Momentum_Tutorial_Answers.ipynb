{
 "cells": [
  {
   "cell_type": "markdown",
   "id": "77a7fd99",
   "metadata": {},
   "source": [
    "---\n",
    "# Tutorial Task: Sentiment-Based Quant Strategy\n",
    "---"
   ]
  },
  {
   "cell_type": "markdown",
   "id": "44b20d11",
   "metadata": {},
   "source": [
    "In this tutorial, you will design and implement a **quantitative trading strategy** that makes trading decisions based on **news sentiment** for a selected group of 5 stocks."
   ]
  },
  {
   "cell_type": "markdown",
   "id": "e3e0a326",
   "metadata": {},
   "source": [
    "## Objective\n",
    "\n",
    "Each day, over a 1-week historical period:\n",
    "- **Buy** (go long) the stock with the **most positive** news sentiment\n",
    "- **Sell** (go short) the stock with the **most negative** news sentiment\n",
    "\n",
    "You will:\n",
    "1. Select your own **universe of 3 stocks** (e.g., AAPL, MSFT, GOOGL).\n",
    "2. Use the provided News API to retrieve articles for each stock.\n",
    "3. Calculate the **average sentiment** for each stock daily using tools like `TextBlob`.\n",
    "4. Track your portfolio’s value over time by simulating simple returns (real or mock).\n",
    "5. Plot your portfolio value and analyze strategy performance.\n",
    "\n",
    "## Constraints\n",
    "\n",
    "- The News API is limited to **100 requests per day**. Avoid excessive API calls while developing by storing data or limiting requests.\n",
    "- You only trade **one long and one short position** per day.\n",
    "- Keep it simple: assume equal capital allocation to long and short trades.\n",
    "\n",
    "## Deliverables\n",
    "\n",
    "- A working Jupyter notebook implementing the above strategy\n",
    "- Comments and clear structure for readability\n",
    "- A final plot showing portfolio value over the 1-week period\n"
   ]
  },
  {
   "cell_type": "markdown",
   "id": "3cd603bd",
   "metadata": {},
   "source": [
    "## Step 1:\n",
    "Import relevant libraries"
   ]
  },
  {
   "cell_type": "code",
   "execution_count": 1,
   "id": "d8f49e5a",
   "metadata": {},
   "outputs": [],
   "source": [
    "# Data analysis\n",
    "import pandas as pd\n",
    "import numpy as np\n",
    "# API calls\n",
    "import requests\n",
    "# Sentiment analysis\n",
    "from textblob import TextBlob\n",
    "# Time arithmetic\n",
    "from datetime import datetime, timedelta\n",
    "# Plotting\n",
    "import matplotlib.pyplot as plt\n",
    "# Financial data\n",
    "import yfinance as yf"
   ]
  },
  {
   "cell_type": "markdown",
   "id": "b87ffccc",
   "metadata": {},
   "source": [
    "## Step 2:\n",
    "Configure API\n",
    "\n",
    "Make the students go to: https://newsapi.org/ and get an API key"
   ]
  },
  {
   "cell_type": "code",
   "execution_count": 2,
   "id": "534ee496",
   "metadata": {},
   "outputs": [],
   "source": [
    "# Information to call API (variables capitalised to deonte constants)\n",
    "API_KEY = '8dccb56c87484f47a9070502a94ba616'  # Replace with your actual key\n",
    "BASE_URL = 'https://newsapi.org/v2/everything'\n",
    "STOCK = 'AAPL'\n",
    "START_DATE = datetime(2025, 4, 7)\n",
    "END_DATE = datetime(2025, 4, 18)"
   ]
  },
  {
   "cell_type": "markdown",
   "id": "3835f924",
   "metadata": {},
   "source": [
    "## Step 3:\n",
    "Create a function to get news and calculate the sentiment"
   ]
  },
  {
   "cell_type": "code",
   "execution_count": 3,
   "id": "a0bdb8ff",
   "metadata": {},
   "outputs": [
    {
     "name": "stdout",
     "output_type": "stream",
     "text": [
      "0.7500000000000001\n",
      "0.5\n",
      "-0.6999999999999998\n",
      "0.0\n"
     ]
    }
   ],
   "source": [
    "# We use TextBlob() to calculate sentiment:\n",
    "\n",
    "# Show students how this works by having it come up with sentiment from a string of controlled text\n",
    "print(TextBlob(\"This stock is amazing!\").sentiment.polarity)  # ➝ ~0.8 to 1.0 (positive)\n",
    "print(TextBlob(\"This stock is okay.\").sentiment.polarity)     # ➝ ~0.2 (slightly positive)\n",
    "print(TextBlob(\"This stock is bad.\").sentiment.polarity)      # ➝ ~-0.7 (negative)\n",
    "print(TextBlob(\"This is a stock.\").sentiment.polarity)    "
   ]
  },
  {
   "cell_type": "markdown",
   "id": "ff7b26c7",
   "metadata": {},
   "source": [
    "## Step 4:\n",
    "Simulate Trading"
   ]
  },
  {
   "cell_type": "code",
   "execution_count": 4,
   "id": "b7e1aeb6",
   "metadata": {},
   "outputs": [
    {
     "data": {
      "text/html": [
       "<div>\n",
       "<style scoped>\n",
       "    .dataframe tbody tr th:only-of-type {\n",
       "        vertical-align: middle;\n",
       "    }\n",
       "\n",
       "    .dataframe tbody tr th {\n",
       "        vertical-align: top;\n",
       "    }\n",
       "\n",
       "    .dataframe thead th {\n",
       "        text-align: right;\n",
       "    }\n",
       "</style>\n",
       "<table border=\"1\" class=\"dataframe\">\n",
       "  <thead>\n",
       "    <tr style=\"text-align: right;\">\n",
       "      <th></th>\n",
       "      <th>date</th>\n",
       "      <th>sentiment</th>\n",
       "      <th>open</th>\n",
       "      <th>close</th>\n",
       "      <th>daily_return</th>\n",
       "      <th>portfolio_value</th>\n",
       "    </tr>\n",
       "  </thead>\n",
       "  <tbody>\n",
       "    <tr>\n",
       "      <th>0</th>\n",
       "      <td>2025-04-07</td>\n",
       "      <td>0.000000</td>\n",
       "      <td>478.241675</td>\n",
       "      <td>473.824839</td>\n",
       "      <td>-0.009236</td>\n",
       "      <td>99076.442636</td>\n",
       "    </tr>\n",
       "    <tr>\n",
       "      <th>1</th>\n",
       "      <td>2025-04-08</td>\n",
       "      <td>0.000000</td>\n",
       "      <td>473.824839</td>\n",
       "      <td>472.876171</td>\n",
       "      <td>-0.002002</td>\n",
       "      <td>98878.076834</td>\n",
       "    </tr>\n",
       "    <tr>\n",
       "      <th>2</th>\n",
       "      <td>2025-04-09</td>\n",
       "      <td>0.000000</td>\n",
       "      <td>472.876171</td>\n",
       "      <td>485.626309</td>\n",
       "      <td>0.026963</td>\n",
       "      <td>101544.121878</td>\n",
       "    </tr>\n",
       "    <tr>\n",
       "      <th>3</th>\n",
       "      <td>2025-04-10</td>\n",
       "      <td>0.049745</td>\n",
       "      <td>485.626309</td>\n",
       "      <td>474.837606</td>\n",
       "      <td>-0.022216</td>\n",
       "      <td>99288.211436</td>\n",
       "    </tr>\n",
       "    <tr>\n",
       "      <th>4</th>\n",
       "      <td>2025-04-11</td>\n",
       "      <td>0.330292</td>\n",
       "      <td>474.837606</td>\n",
       "      <td>474.845297</td>\n",
       "      <td>0.000016</td>\n",
       "      <td>99289.819721</td>\n",
       "    </tr>\n",
       "    <tr>\n",
       "      <th>5</th>\n",
       "      <td>2025-04-12</td>\n",
       "      <td>0.186542</td>\n",
       "      <td>NaN</td>\n",
       "      <td>NaN</td>\n",
       "      <td>0.000000</td>\n",
       "      <td>99289.819721</td>\n",
       "    </tr>\n",
       "    <tr>\n",
       "      <th>6</th>\n",
       "      <td>2025-04-13</td>\n",
       "      <td>0.132917</td>\n",
       "      <td>NaN</td>\n",
       "      <td>NaN</td>\n",
       "      <td>0.000000</td>\n",
       "      <td>99289.819721</td>\n",
       "    </tr>\n",
       "    <tr>\n",
       "      <th>7</th>\n",
       "      <td>2025-04-14</td>\n",
       "      <td>0.066229</td>\n",
       "      <td>NaN</td>\n",
       "      <td>NaN</td>\n",
       "      <td>0.000000</td>\n",
       "      <td>99289.819721</td>\n",
       "    </tr>\n",
       "    <tr>\n",
       "      <th>8</th>\n",
       "      <td>2025-04-15</td>\n",
       "      <td>0.200295</td>\n",
       "      <td>NaN</td>\n",
       "      <td>NaN</td>\n",
       "      <td>0.000000</td>\n",
       "      <td>99289.819721</td>\n",
       "    </tr>\n",
       "    <tr>\n",
       "      <th>9</th>\n",
       "      <td>2025-04-16</td>\n",
       "      <td>0.169444</td>\n",
       "      <td>NaN</td>\n",
       "      <td>NaN</td>\n",
       "      <td>0.000000</td>\n",
       "      <td>99289.819721</td>\n",
       "    </tr>\n",
       "    <tr>\n",
       "      <th>10</th>\n",
       "      <td>2025-04-17</td>\n",
       "      <td>0.210833</td>\n",
       "      <td>NaN</td>\n",
       "      <td>NaN</td>\n",
       "      <td>0.000000</td>\n",
       "      <td>99289.819721</td>\n",
       "    </tr>\n",
       "    <tr>\n",
       "      <th>11</th>\n",
       "      <td>2025-04-18</td>\n",
       "      <td>0.334167</td>\n",
       "      <td>NaN</td>\n",
       "      <td>NaN</td>\n",
       "      <td>0.000000</td>\n",
       "      <td>99289.819721</td>\n",
       "    </tr>\n",
       "  </tbody>\n",
       "</table>\n",
       "</div>"
      ],
      "text/plain": [
       "          date  sentiment        open       close  daily_return  \\\n",
       "0   2025-04-07   0.000000  478.241675  473.824839     -0.009236   \n",
       "1   2025-04-08   0.000000  473.824839  472.876171     -0.002002   \n",
       "2   2025-04-09   0.000000  472.876171  485.626309      0.026963   \n",
       "3   2025-04-10   0.049745  485.626309  474.837606     -0.022216   \n",
       "4   2025-04-11   0.330292  474.837606  474.845297      0.000016   \n",
       "5   2025-04-12   0.186542         NaN         NaN      0.000000   \n",
       "6   2025-04-13   0.132917         NaN         NaN      0.000000   \n",
       "7   2025-04-14   0.066229         NaN         NaN      0.000000   \n",
       "8   2025-04-15   0.200295         NaN         NaN      0.000000   \n",
       "9   2025-04-16   0.169444         NaN         NaN      0.000000   \n",
       "10  2025-04-17   0.210833         NaN         NaN      0.000000   \n",
       "11  2025-04-18   0.334167         NaN         NaN      0.000000   \n",
       "\n",
       "    portfolio_value  \n",
       "0      99076.442636  \n",
       "1      98878.076834  \n",
       "2     101544.121878  \n",
       "3      99288.211436  \n",
       "4      99289.819721  \n",
       "5      99289.819721  \n",
       "6      99289.819721  \n",
       "7      99289.819721  \n",
       "8      99289.819721  \n",
       "9      99289.819721  \n",
       "10     99289.819721  \n",
       "11     99289.819721  "
      ]
     },
     "execution_count": 4,
     "metadata": {},
     "output_type": "execute_result"
    }
   ],
   "source": [
    "from sentiment_trading_simulator import run_sentiment_strategy\n",
    "from datetime import datetime\n",
    "\n",
    "INIT_CAP  = 100_000\n",
    "\n",
    "df = run_sentiment_strategy(\n",
    "    STOCK, START_DATE, END_DATE, INIT_CAP, \n",
    "    API_KEY, BASE_URL,\n",
    "    offline_mode=False   # set True to simulate news too\n",
    ")\n",
    "\n",
    "df.head(15)"
   ]
  },
  {
   "cell_type": "markdown",
   "id": "3c88c049",
   "metadata": {},
   "source": [
    "## Step 5:\n",
    "Display results in ```matplotlib```"
   ]
  },
  {
   "cell_type": "code",
   "execution_count": 5,
   "id": "e50932e0",
   "metadata": {},
   "outputs": [
    {
     "data": {
      "image/png": "[encoded data removed]",
      "text/plain": [
       "<Figure size 1000x500 with 1 Axes>"
      ]
     },
     "metadata": {},
     "output_type": "display_data"
    }
   ],
   "source": [
    "# Create DataFrame from strategy returns\n",
    "df = pd.DataFrame(df)\n",
    "\n",
    "# Ensure correct data types\n",
    "df['date'] = pd.to_datetime(df['date'])\n",
    "df = df.sort_values('date')\n",
    "df['portfolio_value'] = pd.to_numeric(df['portfolio_value'], errors='coerce')\n",
    "\n",
    "# Plot the portfolio value\n",
    "plt.figure(figsize=(10, 5))\n",
    "plt.plot(df['date'], df['portfolio_value'], marker='o', linewidth=2)\n",
    "plt.title('Sentiment-Based Strategy: Portfolio Value Over 1 Week')\n",
    "plt.xlabel('Date')\n",
    "plt.ylabel('Portfolio Value (USD)')\n",
    "plt.grid(True)\n",
    "plt.xticks(rotation=45)\n",
    "plt.tight_layout()\n",
    "plt.show()"
   ]
  },
  {
   "cell_type": "markdown",
   "id": "a53eeee8",
   "metadata": {},
   "source": []
  }
 ],
 "metadata": {
  "kernelspec": {
   "display_name": "Python 3",
   "language": "python",
   "name": "python3"
  },
  "language_info": {
   "codemirror_mode": {
    "name": "ipython",
    "version": 3
   },
   "file_extension": ".py",
   "mimetype": "text/x-python",
   "name": "python",
   "nbconvert_exporter": "python",
   "pygments_lexer": "ipython3",
   "version": "3.12.1"
  }
 },
 "nbformat": 4,
 "nbformat_minor": 5
}
