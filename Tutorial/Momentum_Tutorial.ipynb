{
 "cells": [
  {
   "cell_type": "markdown",
   "id": "77a7fd99",
   "metadata": {},
   "source": [
    "---\n",
    "# Tutorial Task: Sentiment-Based Quant Strategy\n",
    "---"
   ]
  },
  {
   "cell_type": "markdown",
   "id": "44b20d11",
   "metadata": {},
   "source": [
    "In this tutorial, you will design and implement a **quantitative trading strategy** that makes trading decisions based on **news sentiment** for a selected group of 3 stocks."
   ]
  },
  {
   "cell_type": "markdown",
   "id": "e3e0a326",
   "metadata": {},
   "source": [
    "## Objective\n",
    "\n",
    "Each day, over a 1-week historical period:\n",
    "- **Buy** (go long) the stock with the **most positive** news sentiment\n",
    "- **Sell** (go short) the stock with the **most negative** news sentiment\n",
    "\n",
    "You will:\n",
    "1. Select your own **universe of 3 stocks** (e.g., AAPL, BRK-B, DNUT, MSFT, GOOGL, AMZN, TSLA).\n",
    "2. Use the provided News API to retrieve articles for each stock.\n",
    "3. Calculate the **average sentiment** for each stock daily using tools like `TextBlob`.\n",
    "4. Track your portfolio’s value over time by simulating simple returns.\n",
    "5. Plot your portfolio value and analyze strategy performance.\n",
    "\n",
    "## Constraints\n",
    "\n",
    "- The News API is limited to **100 requests per day**. Avoid excessive API calls while developing by storing data or limiting requests.\n",
    "- You only trade **one long and one short position** per day.\n",
    "- Keep it simple: assume equal capital allocation to long and short trades.\n"
   ]
  },
  {
   "cell_type": "markdown",
   "id": "3cd603bd",
   "metadata": {},
   "source": [
    "## Step 1:\n",
    "Import relevant libraries"
   ]
  },
  {
   "cell_type": "code",
   "execution_count": null,
   "id": "8d8d2f86",
   "metadata": {},
   "outputs": [],
   "source": [
    "# Data analysis\n",
    "import pandas as pd\n",
    "import numpy as np\n",
    "\n",
    "# API call\n",
    "import requests\n",
    "\n",
    "# Sentiment analysis\n",
    "from textblob import TextBlob\n",
    "\n",
    "# Time arithmetic\n",
    "from datetime import datetime, timedelta\n",
    "\n",
    "# Plotting\n",
    "import matplotlib.pyplot as plt\n",
    "\n",
    "# Financial data\n",
    "import yfinance as yf\n"
   ]
  },
  {
   "cell_type": "markdown",
   "id": "b87ffccc",
   "metadata": {},
   "source": [
    "## Step 2:\n",
    "Configure your API\n",
    "\n",
    "https://newsapi.org/"
   ]
  },
  {
   "cell_type": "code",
   "execution_count": null,
   "id": "6d3853f1",
   "metadata": {},
   "outputs": [],
   "source": [
    "# Information to call API\n",
    "API_KEY = '49473ca1043f406faa5dd31934688163' # Replace with your actual key\n",
    "BASE_URL = 'https://newsapi.org/v2/everything'"
   ]
  },
  {
   "cell_type": "markdown",
   "id": "3835f924",
   "metadata": {},
   "source": [
    "## Step 3:\n",
    "Create a function to get news and calculate the sentiment"
   ]
  },
  {
   "cell_type": "code",
   "execution_count": null,
   "id": "2a4dad13",
   "metadata": {},
   "outputs": [],
   "source": [
    "# We use TextBlob() to calculate sentiment:\n",
    "\n",
    "# Show students how this works\n",
    "print(TextBlob(\"This stock is amazing!\").sentiment.polarity) # ~0.7-1 is a positive sentiment\n",
    "print(TextBlob(\"This stock is okay\").sentiment.polarity) # ~0.2 is a slightly positive sentiment\n",
    "print(TextBlob(\"This stock is awful!\").sentiment.polarity) # ~-0.8-1 is a negative sentiment\n",
    "print(TextBlob(\"This is a stock\").sentiment.polarity) # 0 is a neutral sentiment"
   ]
  },
  {
   "cell_type": "code",
   "execution_count": null,
   "id": "e75184bc",
   "metadata": {},
   "outputs": [],
   "source": [
    "# We make a function to call the API and get the sentiment of a stock over a day\n",
    "\n",
    "def get_sentiment(stock, date):\n",
    "    from_date = date.strftime('%Y-%m-%d')\n",
    "    to_date = (date + timedelta(days = 1)).strftime('%Y-%m-%d')\n",
    "\n",
    "    params = {\n",
    "        'q': stock,\n",
    "        'from': from_date,\n",
    "        'to': to_date,\n",
    "        'sortBy': 'relevancy',\n",
    "        'apiKey': API_KEY,\n",
    "        'language': 'en',\n",
    "        'pageSize': 5\n",
    "    }\n",
    "\n",
    "    # Call API with the relevant stock and dates\n",
    "    response = requests.get(BASE_URL, params=params)\n",
    "    data = response.json() # response in a .JSON format\n",
    "\n",
    "    print(data)\n",
    "\n",
    "    sentiments = []\n",
    "    for article in data.get('articles', []):\n",
    "        title = article.get('title', '')\n",
    "        description = article.get('description', '')\n",
    "\n",
    "        if not title and not description:\n",
    "            continue #skip if both are missing\n",
    "               \n",
    "        text = f\"{title} {description}\"\n",
    "        # Get sentiment of text\n",
    "        sentiment = TextBlob(text).sentiment.polarity\n",
    "        sentiments.append(sentiment)\n",
    "\n",
    "    if sentiments:\n",
    "        mean = np.mean(sentiments)\n",
    "        print(mean)\n",
    "        return mean # return the mean sentiment of the stock over the day\n",
    "    return None\n"
   ]
  },
  {
   "cell_type": "code",
   "execution_count": null,
   "id": "3db41bd8",
   "metadata": {},
   "outputs": [],
   "source": [
    "get_sentiment('AAPL', datetime(2025, 5, 5))"
   ]
  },
  {
   "cell_type": "markdown",
   "id": "ff7b26c7",
   "metadata": {},
   "source": [
    "## Step 4:\n",
    "Simulate Trading by Backtesting"
   ]
  },
  {
   "cell_type": "code",
   "execution_count": null,
   "id": "3ed1b70b",
   "metadata": {},
   "outputs": [],
   "source": [
    "def gather_daily_sentiments(stocks, start_date, end_date):\n",
    "    \"\"\"\n",
    "    For each date in [start_date, end_date], calls get_sentiment(stock, date)\n",
    "    and returns a DataFrame of shape (n_dates * n_stocks) of daily polarity\n",
    "    \"\"\"\n",
    "\n",
    "    dates = pd.date_range(start_date, end_date)\n",
    "    # initialise and empy dataframe\n",
    "    sentiments = pd.DataFrame(index=dates, columns=stocks, dtype=float)\n",
    "\n",
    "    for date in dates:\n",
    "        for stock in stocks:\n",
    "            sentiments.at[date, stock] = get_sentiment(stock, date)\n",
    "    return sentiments\n",
    "\n",
    "def fetch_price_data(stocks, start_date, end_date):\n",
    "    \"\"\"\n",
    "    Downloads daily OHLC data for each ticker in 'stocks' between start_date and end_date. Returns a dict mapping ticker to its dataframe\n",
    "    \"\"\"\n",
    "\n",
    "    price_data = {}\n",
    "    for stock in stocks:\n",
    "        df = yf.download(\n",
    "            stock,\n",
    "            start = start_date.strftime('%Y-%m-%d'),\n",
    "            end = (end_date + timedelta(days = 1)).strftime('%Y-%m-%d'),\n",
    "            interval = '1d',\n",
    "            progress = False\n",
    "        )\n",
    "        price_data[stock] = df[['Open', 'Close']] # keep only what is needed\n",
    "    return price_data"
   ]
  },
  {
   "cell_type": "code",
   "execution_count": null,
   "id": "aff94339",
   "metadata": {},
   "outputs": [],
   "source": [
    "\n",
    "# Define parameters for the API and its functions\n",
    "\n",
    "START_DATE = pd.to_datetime('2025-04-28')\n",
    "END_DATE = pd.to_datetime('2025-05-09')\n",
    "STOCK_UNIVERSE = ['AAPL', 'DNUT', 'BRK-B']\n",
    "\n",
    "#1) Get your sentiment surface\n",
    "\n",
    "sentiment_df = gather_daily_sentiments(STOCK_UNIVERSE, START_DATE, END_DATE)\n",
    "\n",
    "# 2) Pull in all your price data\n",
    "\n",
    "price_dict = fetch_price_data(STOCK_UNIVERSE, START_DATE, END_DATE)\n",
    "\n",
    "# Now you will have:\n",
    "# - sentiment_df.loc[date, stock] which is polarity of the stock on that date\n",
    "# - price_dict[stock].loc[date, ['Open', 'Close']] prices"
   ]
  },
  {
   "cell_type": "code",
   "execution_count": null,
   "id": "732003c9",
   "metadata": {},
   "outputs": [],
   "source": [
    "\n",
    "# Daily sentiment per stock\n",
    "\n",
    "sentiment_df"
   ]
  },
  {
   "cell_type": "code",
   "execution_count": null,
   "id": "657cf6b4",
   "metadata": {},
   "outputs": [],
   "source": [
    "# Price data for each stock\n",
    "\n",
    "print(price_dict['DNUT'])"
   ]
  },
  {
   "cell_type": "code",
   "execution_count": null,
   "id": "c572c7c1",
   "metadata": {},
   "outputs": [],
   "source": [
    "# Import backtesting functionality from python file\n",
    "\n",
    "from momentum_functions import backtest_sentiment_strategy"
   ]
  },
  {
   "cell_type": "code",
   "execution_count": null,
   "id": "cebcf345",
   "metadata": {},
   "outputs": [],
   "source": [
    "# Example usage\n",
    "\n",
    "results = backtest_sentiment_strategy(sentiment_df, price_dict, init_capital=100000)\n",
    "results\n"
   ]
  },
  {
   "cell_type": "markdown",
   "id": "3c88c049",
   "metadata": {},
   "source": [
    "## Step 5:\n",
    "Display results in ```matplotlib```"
   ]
  },
  {
   "cell_type": "code",
   "execution_count": null,
   "id": "11bee3da",
   "metadata": {},
   "outputs": [],
   "source": [
    "\n",
    "# Plot the portfolio value\n",
    "\n",
    "plt.figure(figsize=(10, 5))\n",
    "plt.plot(results.index, results['portfolio_value'], marker = 'o', linewidth = 2)\n",
    "plt.title('Sentiment-based strategy: portfolio value over two weeks')\n",
    "plt.xlabel('Date')\n",
    "plt.ylabel('Portfolio Value (USD)')\n",
    "plt.axhline(y=100000, color='r', linestyle='--', label='Initial Capital')\n",
    "plt.legend()\n",
    "plt.grid(True)\n",
    "plt.tight_layout()"
   ]
  }
 ],
 "metadata": {
  "language_info": {
   "name": "python"
  }
 },
 "nbformat": 4,
 "nbformat_minor": 5
}
